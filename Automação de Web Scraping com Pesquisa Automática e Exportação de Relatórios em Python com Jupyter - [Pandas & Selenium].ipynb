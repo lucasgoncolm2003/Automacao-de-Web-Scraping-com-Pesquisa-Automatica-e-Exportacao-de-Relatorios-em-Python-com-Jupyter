{
 "cells": [
  {
   "cell_type": "markdown",
   "id": "710877e4",
   "metadata": {},
   "source": [
    "## Automação de Web Scraping com Pesquisa Automática e Exportação de Relatórios em Python com Jupyter - [Pandas & Selenium]\n",
    "\n",
    "### • Web Scraping\n",
    "### • Pesquisa Automática\n",
    "### • Exportação de Relatórios\n",
    "### • Webdrivers do Framework Selenium\n",
    "### • Linguagem Python\n",
    "### • Plataforma Jupyter\n",
    "### • Uso de Bibliotecas\n",
    "#### • Biblioteca Pandas\n",
    "#### • Derivadas do Selenium"
   ]
  },
  {
   "cell_type": "code",
   "execution_count": null,
   "id": "05a5fff8",
   "metadata": {},
   "outputs": [],
   "source": [
    "#!/usr/bin/env python\n",
    "# coding: utf-8\n",
    "# In[13]:\n",
    "# O Selenium é uma ferramenta utilizada para automatização de testes de sistemas\n",
    "# que permite ao usuário reproduzi-los rapidamente no ambiente real da aplicação, \n",
    "# em função da sua integração direta com o navegador.\n",
    "from selenium import webdriver\n",
    "from selenium.webdriver.common.keys import Keys\n",
    "from selenium.webdriver.common.by import By\n",
    "navegador = webdriver.Edge(r\"Endereço do Executável do Webdriver\")\n",
    "# webdriver.Chrome(): Abertura do Navegador\n",
    "# navegador = webdriver.Chrome()\n",
    "# get(): acessa o Link Indicado no Parâmetro\n",
    "navegador.get(\"https://www.google.com/\")\n",
    "# ---- Cotação do Dólar\n",
    "# find_element: encontra um Elemento Web em que faz-se alguma Função\n",
    "navegador.find_element(By.XPATH,\n",
    "    '/html/body/div[1]/div[3]/form/div[1]/div[1]/div[1]/div/div[2]/input').send_keys(\"cotação dólar\")\n",
    "# send_keys: escreve um Determinado Texto através do Forçamento do Teclado\n",
    "navegador.find_element(By.XPATH,\n",
    "    '/html/body/div[1]/div[3]/form/div[1]/div[1]/div[1]/div/div[2]/input').send_keys(Keys.ENTER)\n",
    "# Keys.ENTER: força o teclado a pressionar a Tecla ENTER\n",
    "cotacao_dolar = navegador.find_element(By.XPATH,\n",
    "    '//*[@id=\"knowledge-currency__updatable-data-column\"]/div[1]/div[2]/span[1]').get_attribute(\"data-value\") \n",
    "# get_attribute: passa o Valor da Cotação mostrado no find_element para a Variável\n",
    "print(cotacao_dolar)\n",
    "# ---- Cotação do Euro\n",
    "navegador.get(\"https://www.google.com/\")\n",
    "navegador.find_element(By.XPATH,\n",
    "    '/html/body/div[1]/div[3]/form/div[1]/div[1]/div[1]/div/div[2]/input').send_keys(\"cotação euro\")\n",
    "navegador.find_element(By.XPATH,\n",
    "    '/html/body/div[1]/div[3]/form/div[1]/div[1]/div[1]/div/div[2]/input').send_keys(Keys.ENTER)\n",
    "cotacao_euro = navegador.find_element(By.XPATH,\n",
    "    '//*[@id=\"knowledge-currency__updatable-data-column\"]/div[1]/div[2]/span[1]').get_attribute(\"data-value\")\n",
    "print(cotacao_euro)\n",
    "# ---- Cotação do Ouro\n",
    "navegador.get(\"https://www.melhorcambio.com/ouro-hoje\")\n",
    "cotacao_ouro = navegador.find_element(By.XPATH, '//*[@id=\"comercial\"]').get_attribute(\"value\")\n",
    "cotacao_ouro = cotacao_ouro.replace(\",\", \".\")\n",
    "print(cotacao_ouro)\n",
    "# quit(): Fecha o Navegador\n",
    "navegador.quit()"
   ]
  },
  {
   "cell_type": "code",
   "execution_count": null,
   "id": "3fa1ef6e",
   "metadata": {},
   "outputs": [],
   "source": [
    "# In[14]:\n",
    "# ---- Importação de Base de Dados de Produtos\n",
    "import pandas as pd\n",
    "# read_excel: realiza a Leitura da Planilha de Produtos\n",
    "tabela = pd.read_excel(r\"Endereço da Planilha de Base de Dados\")\n",
    "# display: revela a Tabela no Display\n",
    "display(tabela)"
   ]
  },
  {
   "cell_type": "code",
   "execution_count": null,
   "id": "24c7e6c6",
   "metadata": {},
   "outputs": [],
   "source": [
    "# In[15]:\n",
    "# ---- Recálculo do Preço do Produto\n",
    "# Atualização da Cotação onde a Coluna Moeda é Dólar, Euro ou Ouro\n",
    "# Substitui a Cotação pelo Valor da Variável das Cotações\n",
    "tabela.loc[tabela[\"Moeda\"] == \"Dólar\", \"Cotação\"] = float(cotacao_dolar)\n",
    "tabela.loc[tabela[\"Moeda\"] == \"Euro\", \"Cotação\"] = float(cotacao_euro)\n",
    "tabela.loc[tabela[\"Moeda\"] == \"Ouro\", \"Cotação\"] = float(cotacao_ouro)\n",
    "# Atualização do Preço Base Reais (Preço-Base*Cotação)\n",
    "tabela[\"Preço de Compra\"] = tabela[\"Preço Original\"] * tabela[\"Cotação\"]\n",
    "# Atualização do Preço Final (Preço-Base*Margem)\n",
    "tabela[\"Preço de Venda\"] = tabela[\"Preço de Compra\"] * tabela[\"Margem\"]\n",
    "# tabela[\"Preço de Venda\"] = tabela[\"Preço de Venda\"].map(\"R${:.2f}\".format)\n",
    "# display(): Mostra a Tabela no Display\n",
    "display(tabela)"
   ]
  },
  {
   "cell_type": "code",
   "execution_count": null,
   "id": "d7d666d6",
   "metadata": {},
   "outputs": [],
   "source": [
    "# In[16]:\n",
    "# ---- Salvamento dos Novos Preços dos Produtos\n",
    "tabela.to_excel(r\"Endereço de Salvamento da Planilha Nova\", index=False)"
   ]
  }
 ],
 "metadata": {
  "kernelspec": {
   "display_name": "Python 3 (ipykernel)",
   "language": "python",
   "name": "python3"
  },
  "language_info": {
   "codemirror_mode": {
    "name": "ipython",
    "version": 3
   },
   "file_extension": ".py",
   "mimetype": "text/x-python",
   "name": "python",
   "nbconvert_exporter": "python",
   "pygments_lexer": "ipython3",
   "version": "3.9.12"
  }
 },
 "nbformat": 4,
 "nbformat_minor": 5
}
